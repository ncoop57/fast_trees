{
 "cells": [
  {
   "cell_type": "code",
   "execution_count": null,
   "metadata": {},
   "outputs": [],
   "source": [
    "# hide\n",
    "from fast_trees.core import *"
   ]
  },
  {
   "cell_type": "markdown",
   "metadata": {},
   "source": [
    "# Fast Trees\n",
    "\n",
    "> Cute little python module that sits atop the tree-sitter library to provide an easier to use and cleaner interface for interacting with source code"
   ]
  },
  {
   "cell_type": "markdown",
   "metadata": {},
   "source": [
    "## Install"
   ]
  },
  {
   "cell_type": "markdown",
   "metadata": {},
   "source": [
    "`pip install fast-trees`"
   ]
  },
  {
   "cell_type": "markdown",
   "metadata": {},
   "source": [
    "## How to use"
   ]
  },
  {
   "cell_type": "markdown",
   "metadata": {},
   "source": [
    "Easily work with source code data by using the high level API. Here's how you can grab the parameters of a java method:"
   ]
  },
  {
   "cell_type": "code",
   "execution_count": null,
   "metadata": {},
   "outputs": [
    {
     "name": "stdout",
     "output_type": "stream",
     "text": [
      "Downloading repo https://github.com/tree-sitter/tree-sitter-java to /home/nathan/projects/other/fast_trees/fast_trees/tree-sitter-java.\n",
      "['args', 'clazz']\n"
     ]
    }
   ],
   "source": [
    "mthd = \"\"\"public static void main(String[] args, Object clazz) {\n",
    "    // This is a test\n",
    "    System.out.println(args[0]);\n",
    "    /**\n",
    "        This is another test!\n",
    "    */\n",
    "}\n",
    "\"\"\"\n",
    "parser = FastParser('java')\n",
    "print(parser.get_method_parameters(mthd))"
   ]
  },
  {
   "cell_type": "code",
   "execution_count": null,
   "metadata": {},
   "outputs": [
    {
     "name": "stdout",
     "output_type": "stream",
     "text": [
      "// This is a test\n",
      "/**\n",
      "        This is another test!\n",
      "    */\n"
     ]
    }
   ],
   "source": [
    "inline_comments = parser.get_method_inline_comments(mthd)\n",
    "for c in inline_comments:\n",
    "    print(c)"
   ]
  },
  {
   "cell_type": "markdown",
   "metadata": {},
   "source": [
    "# Supported Languages\n",
    "- [x] Java"
   ]
  },
  {
   "cell_type": "markdown",
   "metadata": {},
   "source": [
    "# TODO\n",
    "\n",
    "- [x] Add ability to grab method parameters\n",
    "- [ ] Add separation between parsing methods vs classes\n",
    "- [ ] Add ability to get all methods in a class\n",
    "- [ ] add ability to get all instance variables in a class\n",
    "- [ ] Add more languages"
   ]
  }
 ],
 "metadata": {
  "kernelspec": {
   "display_name": "Python 3",
   "language": "python",
   "name": "python3"
  }
 },
 "nbformat": 4,
 "nbformat_minor": 2
}
