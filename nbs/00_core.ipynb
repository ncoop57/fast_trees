{
 "cells": [
  {
   "cell_type": "code",
   "execution_count": null,
   "metadata": {},
   "outputs": [],
   "source": [
    "# default_exp core"
   ]
  },
  {
   "cell_type": "markdown",
   "metadata": {},
   "source": [
    "# Core\n",
    "\n",
    "> API details."
   ]
  },
  {
   "cell_type": "code",
   "execution_count": null,
   "metadata": {},
   "outputs": [],
   "source": [
    "# export\n",
    "import fast_trees\n",
    "\n",
    "from fast_trees.queries import *\n",
    "from git import Repo\n",
    "from pathlib import Path\n",
    "from tree_sitter import Language, Parser\n",
    "from typing import List"
   ]
  },
  {
   "cell_type": "code",
   "execution_count": null,
   "metadata": {},
   "outputs": [],
   "source": [
    "# hide\n",
    "from nbdev.showdoc import *"
   ]
  },
  {
   "cell_type": "code",
   "execution_count": null,
   "metadata": {},
   "outputs": [],
   "source": [
    "# export\n",
    "class BaseParser:\n",
    "    def __init__(self):\n",
    "        self.build_parser()\n",
    "    \n",
    "    def build_parser(self):\n",
    "        url, folder = self.LANG_URL\n",
    "        repo_dir = Path(fast_trees.__path__[0] + \"/\" + folder)\n",
    "        if repo_dir.exists():\n",
    "            print(\"Repo already exists, continuing.\")\n",
    "        else:\n",
    "            print(f\"Downloading repo {url} to {repo_dir}.\")\n",
    "            Repo.clone_from(url, repo_dir)\n",
    "\n",
    "        build_dir = fast_trees.__path__[0] + \"/\" + f\"{repo_dir}/build/my-languages.so\"\n",
    "        Language.build_library(\n",
    "            # Store the library in the `build` directory\n",
    "            build_dir,\n",
    "            # Include one or more languages\n",
    "            [repo_dir],\n",
    "        )\n",
    "        self.language = Language(build_dir, self.LANG)\n",
    "        self.parser = Parser()\n",
    "        self.parser.set_language(self.language)"
   ]
  },
  {
   "cell_type": "code",
   "execution_count": null,
   "metadata": {},
   "outputs": [],
   "source": [
    "# export\n",
    "class JavaParser(BaseParser):\n",
    "    LANG: str = \"java\"\n",
    "    LANG_URL: str = [\n",
    "        \"https://github.com/tree-sitter/tree-sitter-java\",\n",
    "        \"tree-sitter-java\",\n",
    "    ]\n",
    "\n",
    "    def __init__(self):\n",
    "        super().__init__()\n",
    "\n",
    "    def get_method_parameters(self, mthd: str) -> List[str]:\n",
    "        \"\"\"\n",
    "        Returns the parameters of a given method\n",
    "\n",
    "        :param mthd: the method to get the parameters from\n",
    "        :returns: the parameters of the given method as an array\n",
    "        \"\"\"\n",
    "        tree = self.parser.parse(bytes(mthd, \"utf8\"))\n",
    "        query = self.language.query(JavaQueries.get_method_parameters)\n",
    "        captures = query.captures(tree.root_node)\n",
    "        lines = mthd.split(\"\\n\")\n",
    "        parameters = []\n",
    "        for node, _ in captures:\n",
    "            parameters.append(\n",
    "                lines[node.start_point[0]][node.start_point[1] : node.end_point[1]]\n",
    "            )\n",
    "\n",
    "        return parameters\n",
    "\n",
    "    def get_method_inline_comments(self, mthd: str) -> List[str]:\n",
    "        tree = self.parser.parse(bytes(mthd, \"utf8\"))\n",
    "        query = self.language.query(JavaQueries.get_all_comments)\n",
    "        captures = query.captures(tree.root_node)\n",
    "        lines = mthd.split(\"\\n\")\n",
    "        comments = []\n",
    "        for node, _ in captures:\n",
    "            if node.start_point[0] == node.end_point[0]:\n",
    "                comments.append(\n",
    "                    lines[node.start_point[0] : node.end_point[0] + 1][0][\n",
    "                        node.start_point[1] : node.end_point[1]\n",
    "                    ]\n",
    "                )\n",
    "            else:\n",
    "                start_line = lines[node.start_point[0]][node.start_point[1]:]\n",
    "                middle_lines = \"\\n\".join(lines[node.start_point[0] + 1: node.end_point[0]])\n",
    "                end_line = lines[node.end_point[0]][: node.end_point[1]]\n",
    "                comments.append(\"\\n\".join([start_line, middle_lines, end_line]))\n",
    "\n",
    "        return comments"
   ]
  },
  {
   "cell_type": "code",
   "execution_count": null,
   "metadata": {},
   "outputs": [],
   "source": [
    "# export\n",
    "def FastParser(lang: str):\n",
    "    PARSERS = {\n",
    "        \"java\": JavaParser,\n",
    "    }\n",
    "\n",
    "    return PARSERS[lang]()"
   ]
  },
  {
   "cell_type": "code",
   "execution_count": null,
   "metadata": {},
   "outputs": [],
   "source": [
    "show_doc(JavaParser.get_method_parameters)"
   ]
  },
  {
   "cell_type": "code",
   "execution_count": null,
   "metadata": {},
   "outputs": [],
   "source": [
    "mthd = \"\"\"public static void main(\n",
    "    String[] args, Object clazz\n",
    ") {\n",
    "    /**\n",
    "        This is a test\n",
    "    */ adadfasdf\n",
    "    System.out.println(\n",
    "        args[0] // Another test\n",
    "    );\n",
    "    // this is another test\n",
    "}\n",
    "\"\"\"\n",
    "parser = FastParser('java')\n",
    "parser.get_method_parameters(mthd)"
   ]
  },
  {
   "cell_type": "code",
   "execution_count": null,
   "metadata": {},
   "outputs": [],
   "source": [
    "inline_comments = parser.get_method_inline_comments(mthd)"
   ]
  },
  {
   "cell_type": "code",
   "execution_count": null,
   "metadata": {},
   "outputs": [],
   "source": [
    "for c in inline_comments:\n",
    "    print(c)"
   ]
  },
  {
   "cell_type": "code",
   "execution_count": null,
   "metadata": {},
   "outputs": [],
   "source": [
    "mthd = \"\"\"public static void main(\n",
    "    String[] args, Object clazz\n",
    ") {\n",
    "    System.out.println(args[0]);\n",
    "}\n",
    "\"\"\"\n",
    "parser = FastParser('java')\n",
    "parser.get_method_parameters(mthd)"
   ]
  },
  {
   "cell_type": "code",
   "execution_count": null,
   "metadata": {},
   "outputs": [],
   "source": [
    "mthd = \"\"\"private static void _getAccessors(\n",
    "\t\t\t\tfinal Class<?> clazz\n",
    "\t\t\t\t)\n",
    "{\n",
    "\tMap<String, PropertyAccessor>  accessors = null;\n",
    "\n",
    "\tsynchronized (_ACCESSORS_REG_) {\n",
    "\t\taccessors = _ACCESSORS_REG_.get( clazz );\n",
    "\t\tif (accessors == null) {\n",
    "\t\t\taccessors = PropertyAccessor.findAll( clazz );\n",
    "\t\t\t_ACCESSORS_REG_.put( clazz, accessors );\n",
    "\t\t}\n",
    "\t}\n",
    "\n",
    "\treturn accessors;\n",
    "}\"\"\"\n",
    "parser = FastParser('java')\n",
    "parser.get_method_parameters(mthd)"
   ]
  },
  {
   "cell_type": "code",
   "execution_count": null,
   "metadata": {},
   "outputs": [],
   "source": []
  }
 ],
 "metadata": {
  "kernelspec": {
   "display_name": "Python 3.6.12 64-bit ('fast_trees': conda)",
   "language": "python",
   "name": "python361264bitfasttreescondab1d0e72616c542bbb0e0845f0385df61"
  }
 },
 "nbformat": 4,
 "nbformat_minor": 2
}
