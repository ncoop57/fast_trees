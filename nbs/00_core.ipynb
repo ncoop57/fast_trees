{
 "cells": [
  {
   "cell_type": "code",
   "execution_count": null,
   "metadata": {},
   "outputs": [],
   "source": [
    "# default_exp core"
   ]
  },
  {
   "cell_type": "markdown",
   "metadata": {},
   "source": [
    "# Core\n",
    "\n",
    "> API details."
   ]
  },
  {
   "cell_type": "code",
   "execution_count": null,
   "metadata": {},
   "outputs": [],
   "source": [
    "# export\n",
    "import fast_trees\n",
    "\n",
    "from git import Repo\n",
    "from pathlib import Path\n",
    "from tree_sitter import Language, Parser"
   ]
  },
  {
   "cell_type": "code",
   "execution_count": null,
   "metadata": {},
   "outputs": [],
   "source": [
    "# hide\n",
    "from nbdev.showdoc import *"
   ]
  },
  {
   "cell_type": "code",
   "execution_count": null,
   "metadata": {},
   "outputs": [],
   "source": [
    "class FastParser:\n",
    "    LANG_URLs = {'java': ['https://github.com/tree-sitter/tree-sitter-java', 'tree-sitter-java']}\n",
    "\n",
    "    def __init__(self, lang):\n",
    "        self.build_parser(lang)\n",
    "\n",
    "    def get_params(self, mthd):\n",
    "        tree = self.parser.parse(bytes(mthd, 'utf8'))\n",
    "        query = self.language.query(\"\"\"\n",
    "            (formal_parameter\n",
    "            name: (identifier) @function.method)\n",
    "        \"\"\")\n",
    "        captures = query.captures(tree.root_node)\n",
    "        params = []\n",
    "        for node, _ in captures:\n",
    "            params.append(mthd[node.start_point[1]:node.end_point[1]])\n",
    "        \n",
    "        return params\n",
    "\n",
    "    def build_parser(self, lang):\n",
    "        url, folder = FastParser.LANG_URLs[lang]\n",
    "        repo_dir = Path(fast_trees.__path__[0] + '/' + folder)\n",
    "        if repo_dir.exists():\n",
    "            print('Repo already exists, continuing.')\n",
    "        else:\n",
    "            print(f'Downloading repo {url} to {repo_dir}.')\n",
    "            Repo.clone_from(url, repo_dir)\n",
    "        \n",
    "        build_dir = fast_trees.__path__[0] + '/' + 'build/my-languages.so'\n",
    "        Language.build_library(\n",
    "            # Store the library in the `build` directory\n",
    "            build_dir,\n",
    "\n",
    "            # Include one or more languages\n",
    "            [\n",
    "                repo_dir\n",
    "            ]\n",
    "        )\n",
    "        self.language = Language(build_dir, lang)\n",
    "        self.parser = Parser()\n",
    "        self.parser.set_language(self.language)"
   ]
  },
  {
   "cell_type": "code",
   "execution_count": null,
   "metadata": {},
   "outputs": [
    {
     "name": "stdout",
     "output_type": "stream",
     "text": [
      "Downloading repo https://github.com/tree-sitter/tree-sitter-java to /home/nathan/projects/other/fast_trees/fast_trees/tree-sitter-java.\n"
     ]
    },
    {
     "data": {
      "text/plain": [
       "['args', 'clazz']"
      ]
     },
     "execution_count": null,
     "metadata": {},
     "output_type": "execute_result"
    }
   ],
   "source": [
    "mthd = \"\"\"public static void main(String[] args, Object clazz) {\n",
    "    System.out.println(args[0]);\n",
    "}\n",
    "\"\"\"\n",
    "parser = FastParser('java')\n",
    "parser.get_params(mthd)"
   ]
  },
  {
   "cell_type": "code",
   "execution_count": null,
   "metadata": {},
   "outputs": [],
   "source": []
  }
 ],
 "metadata": {
  "kernelspec": {
   "display_name": "Python 3.6.12 64-bit ('fast_trees': conda)",
   "language": "python",
   "name": "python361264bitfasttreescondab1d0e72616c542bbb0e0845f0385df61"
  }
 },
 "nbformat": 4,
 "nbformat_minor": 2
}
