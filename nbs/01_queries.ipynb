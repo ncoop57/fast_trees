{
 "cells": [
  {
   "cell_type": "code",
   "execution_count": null,
   "metadata": {},
   "outputs": [],
   "source": [
    "# default_exp queries"
   ]
  },
  {
   "cell_type": "markdown",
   "metadata": {},
   "source": [
    "# Queries\n",
    "\n",
    "> API details."
   ]
  },
  {
   "cell_type": "code",
   "execution_count": null,
   "metadata": {},
   "outputs": [],
   "source": [
    "# hide\n",
    "from nbdev.showdoc import *"
   ]
  },
  {
   "cell_type": "code",
   "execution_count": null,
   "metadata": {},
   "outputs": [],
   "source": [
    "# export\n",
    "class JavaQueries:\n",
    "    get_method_parameters = \"(formal_parameter name: (identifier) @function.parameter)\"\n",
    "    get_all_comments = \"(comment) @function.comment\""
   ]
  },
  {
   "cell_type": "code",
   "execution_count": null,
   "metadata": {},
   "outputs": [],
   "source": [
    "# hide\n",
    "\n",
    "# Gets comments that preceed a method declaration (e.g. javadocs)\n",
    "get_method_comments = \"((comment) @function.comment (method_declaration))\"\n",
    "\n",
    "# Gets all comments\n",
    "get_all_comments = \"(comment) @function.comment\""
   ]
  }
 ],
 "metadata": {
  "kernelspec": {
   "display_name": "Python 3.6.12 64-bit ('fast_trees': conda)",
   "language": "python",
   "name": "python361264bitfasttreescondab1d0e72616c542bbb0e0845f0385df61"
  }
 },
 "nbformat": 4,
 "nbformat_minor": 2
}
